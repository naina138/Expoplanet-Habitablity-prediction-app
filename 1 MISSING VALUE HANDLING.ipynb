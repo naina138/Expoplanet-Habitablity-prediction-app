{
 "cells": [
  {
   "cell_type": "code",
   "execution_count": 1,
   "metadata": {},
   "outputs": [],
   "source": [
    "import pandas as pd\n",
    "from sklearn.preprocessing import LabelEncoder\n",
    "import seaborn as sns\n"
   ]
  },
  {
   "cell_type": "code",
   "execution_count": 2,
   "metadata": {},
   "outputs": [],
   "source": [
    "# Load dataset\n",
    "df = pd.read_csv('expoplanet.csv')"
   ]
  },
  {
   "cell_type": "code",
   "execution_count": 3,
   "metadata": {},
   "outputs": [
    {
     "name": "stdout",
     "output_type": "stream",
     "text": [
      "(5250, 13)\n",
      "name                   0\n",
      "distance              17\n",
      "stellar_magnitude    161\n",
      "planet_type            0\n",
      "discovery_year         0\n",
      "mass_multiplier       23\n",
      "mass_wrt              23\n",
      "radius_multiplier     17\n",
      "radius_wrt            17\n",
      "orbital_radius       289\n",
      "orbital_period         0\n",
      "eccentricity           0\n",
      "detection_method       0\n",
      "dtype: int64\n",
      "Index(['name', 'distance', 'stellar_magnitude', 'planet_type',\n",
      "       'discovery_year', 'mass_multiplier', 'mass_wrt', 'radius_multiplier',\n",
      "       'radius_wrt', 'orbital_radius', 'orbital_period', 'eccentricity',\n",
      "       'detection_method'],\n",
      "      dtype='object')\n",
      "<class 'pandas.core.frame.DataFrame'>\n",
      "RangeIndex: 5250 entries, 0 to 5249\n",
      "Data columns (total 13 columns):\n",
      " #   Column             Non-Null Count  Dtype  \n",
      "---  ------             --------------  -----  \n",
      " 0   name               5250 non-null   object \n",
      " 1   distance           5233 non-null   float64\n",
      " 2   stellar_magnitude  5089 non-null   float64\n",
      " 3   planet_type        5250 non-null   object \n",
      " 4   discovery_year     5250 non-null   int64  \n",
      " 5   mass_multiplier    5227 non-null   float64\n",
      " 6   mass_wrt           5227 non-null   object \n",
      " 7   radius_multiplier  5233 non-null   float64\n",
      " 8   radius_wrt         5233 non-null   object \n",
      " 9   orbital_radius     4961 non-null   float64\n",
      " 10  orbital_period     5250 non-null   float64\n",
      " 11  eccentricity       5250 non-null   float64\n",
      " 12  detection_method   5250 non-null   object \n",
      "dtypes: float64(7), int64(1), object(5)\n",
      "memory usage: 533.3+ KB\n",
      "None\n"
     ]
    }
   ],
   "source": [
    "print(df.shape)\n",
    "print(df.isnull().sum())\n",
    "print(df.columns)\n",
    "print(df.info())\n"
   ]
  },
  {
   "cell_type": "code",
   "execution_count": 4,
   "metadata": {},
   "outputs": [],
   "source": [
    "# Drop constant or low-variance columns\n",
    "df = df.drop(columns=['mass_wrt', 'radius_wrt'], errors='ignore')"
   ]
  },
  {
   "cell_type": "code",
   "execution_count": 5,
   "metadata": {},
   "outputs": [
    {
     "name": "stdout",
     "output_type": "stream",
     "text": [
      "Missing values before filling:\n",
      "distance              17\n",
      "stellar_magnitude    161\n",
      "mass_multiplier       23\n",
      "radius_multiplier     17\n",
      "orbital_radius       289\n",
      "dtype: int64\n"
     ]
    }
   ],
   "source": [
    "# Show missing values before filling\n",
    "print(\"Missing values before filling:\")\n",
    "print(df.isnull().sum()[df.isnull().sum() > 0])\n"
   ]
  },
  {
   "cell_type": "code",
   "execution_count": 6,
   "metadata": {},
   "outputs": [],
   "source": [
    "# Fill missing numeric values with median\n",
    "numeric_cols = df.select_dtypes(include=['float64', 'int64']).columns\n",
    "df[numeric_cols] = df[numeric_cols].fillna(df[numeric_cols].median())"
   ]
  },
  {
   "cell_type": "code",
   "execution_count": 7,
   "metadata": {},
   "outputs": [],
   "source": [
    "# Encode categorical columns\n",
    "label_encoders = {}\n",
    "categorical_cols = df.select_dtypes(include=['object']).columns"
   ]
  },
  {
   "cell_type": "code",
   "execution_count": 8,
   "metadata": {},
   "outputs": [],
   "source": [
    "for col in categorical_cols:\n",
    "    le = LabelEncoder()\n",
    "    df[col] = df[col].astype(str)  # Ensure it's string\n",
    "    df[col] = le.fit_transform(df[col])\n",
    "    label_encoders[col] = le  # Save encoders for inverse transform if needed"
   ]
  },
  {
   "cell_type": "code",
   "execution_count": 9,
   "metadata": {},
   "outputs": [
    {
     "name": "stdout",
     "output_type": "stream",
     "text": [
      "Missing values after cleaning: 0\n"
     ]
    }
   ],
   "source": [
    "\n",
    "# Check for remaining missing values\n",
    "missing_count = df.isnull().sum().sum()\n",
    "print(f\"Missing values after cleaning: {missing_count}\")"
   ]
  },
  {
   "cell_type": "code",
   "execution_count": 10,
   "metadata": {},
   "outputs": [
    {
     "name": "stdout",
     "output_type": "stream",
     "text": [
      "   name  distance  stellar_magnitude  planet_type  discovery_year  \\\n",
      "0     0     304.0            4.72307            0            2007   \n",
      "1     1     409.0            5.01300            0            2009   \n",
      "2     2     246.0            5.23133            0            2008   \n",
      "3     3      58.0            6.61935            0            2002   \n",
      "4     4      69.0            6.21500            0            1996   \n",
      "\n",
      "   mass_multiplier  radius_multiplier  orbital_radius  orbital_period  \\\n",
      "0         19.40000               1.08        1.290000        0.892539   \n",
      "1         14.74000               1.09        1.530000        1.400000   \n",
      "2          4.80000               1.15        0.830000        0.508693   \n",
      "3          8.13881               1.12        2.773069        4.800000   \n",
      "4          1.78000               1.20        1.660000        2.200000   \n",
      "\n",
      "   eccentricity  detection_method  \n",
      "0          0.23                 8  \n",
      "1          0.08                 8  \n",
      "2          0.00                 8  \n",
      "3          0.37                 8  \n",
      "4          0.68                 8  \n"
     ]
    }
   ],
   "source": [
    "# Preview cleaned data\n",
    "print(df.head())\n",
    "df.to_csv('Cleaned_Exoplanet_Data.csv', index=False)"
   ]
  },
  {
   "cell_type": "code",
   "execution_count": null,
   "metadata": {},
   "outputs": [],
   "source": []
  },
  {
   "cell_type": "code",
   "execution_count": null,
   "metadata": {},
   "outputs": [],
   "source": []
  },
  {
   "cell_type": "code",
   "execution_count": null,
   "metadata": {},
   "outputs": [],
   "source": []
  }
 ],
 "metadata": {
  "kernelspec": {
   "display_name": "Python 3",
   "language": "python",
   "name": "python3"
  },
  "language_info": {
   "codemirror_mode": {
    "name": "ipython",
    "version": 3
   },
   "file_extension": ".py",
   "mimetype": "text/x-python",
   "name": "python",
   "nbconvert_exporter": "python",
   "pygments_lexer": "ipython3",
   "version": "3.8.5"
  }
 },
 "nbformat": 4,
 "nbformat_minor": 4
}
