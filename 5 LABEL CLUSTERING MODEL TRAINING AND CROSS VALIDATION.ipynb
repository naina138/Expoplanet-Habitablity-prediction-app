{
 "cells": [
  {
   "cell_type": "code",
   "execution_count": 21,
   "metadata": {},
   "outputs": [],
   "source": [
    "import pandas as pd\n",
    "from sklearn.model_selection import train_test_split\n",
    "from sklearn.ensemble import RandomForestClassifier\n",
    "from sklearn.metrics import classification_report, confusion_matrix\n",
    "from sklearn.preprocessing import StandardScaler\n",
    "import matplotlib.pyplot as plt\n",
    "import seaborn as sns\n",
    "from sklearn.metrics import confusion_matrix, classification_report, ConfusionMatrixDisplay\n",
    "import shap\n",
    "import numpy as np\n",
    "import os\n",
    "from sklearn.model_selection import StratifiedKFold, cross_validate\n",
    "from sklearn.metrics import make_scorer, accuracy_score, precision_score, recall_score, f1_score\n"
   ]
  },
  {
   "cell_type": "code",
   "execution_count": 22,
   "metadata": {},
   "outputs": [],
   "source": [
    "# Load the final dataset\n",
    "df = pd.read_csv(\"EXPOPLANET_TEST_DATA.csv\")"
   ]
  },
  {
   "cell_type": "code",
   "execution_count": 23,
   "metadata": {},
   "outputs": [],
   "source": [
    "# Features and target\n",
    "features = ['mass_multiplier', 'radius_multiplier', 'orbital_radius', 'distance', 'eccentricity']\n",
    "X = df[features]\n",
    "y = df['habitability_cluster']"
   ]
  },
  {
   "cell_type": "code",
   "execution_count": 24,
   "metadata": {},
   "outputs": [],
   "source": [
    "# Separate class 0 (only one sample)\n",
    "class_0 = df[df['habitability_cluster'] == 0]\n",
    "rest = df[df['habitability_cluster'] != 0]\n"
   ]
  },
  {
   "cell_type": "code",
   "execution_count": 25,
   "metadata": {},
   "outputs": [],
   "source": [
    "# Split the rest of the data\n",
    "X_rest = rest[features]\n",
    "y_rest = rest['habitability_cluster']\n",
    "\n",
    "X_rest_scaled = StandardScaler().fit_transform(X_rest)\n",
    "\n",
    "X_train_r, X_test_r, y_train_r, y_test_r = train_test_split(\n",
    "    X_rest_scaled, y_rest, test_size=0.2, random_state=42\n",
    ")\n"
   ]
  },
  {
   "cell_type": "code",
   "execution_count": 26,
   "metadata": {},
   "outputs": [],
   "source": [
    "\n",
    "# Scale and prepare class 0\n",
    "scaler = StandardScaler()\n",
    "X_0_scaled = scaler.fit_transform(X[features].iloc[class_0.index])"
   ]
  },
  {
   "cell_type": "code",
   "execution_count": 27,
   "metadata": {},
   "outputs": [],
   "source": [
    "# Add class 0 back to training set\n",
    "X_train = np.vstack([X_train_r, X_0_scaled])\n",
    "y_train = pd.concat([y_train_r, class_0['habitability_cluster']], ignore_index=True)"
   ]
  },
  {
   "cell_type": "code",
   "execution_count": 28,
   "metadata": {},
   "outputs": [],
   "source": [
    "# Add class 0 to test set as well\n",
    "X_test = np.vstack([X_test_r, X_0_scaled])\n",
    "y_test = pd.concat([y_test_r, class_0['habitability_cluster']], ignore_index=True)"
   ]
  },
  {
   "cell_type": "code",
   "execution_count": 29,
   "metadata": {},
   "outputs": [],
   "source": [
    "# Random Forest\n",
    "rf = RandomForestClassifier(random_state=42)\n",
    "rf.fit(X_train, y_train)\n",
    "rf_preds = rf.predict(X_test)"
   ]
  },
  {
   "cell_type": "code",
   "execution_count": 30,
   "metadata": {},
   "outputs": [
    {
     "name": "stdout",
     "output_type": "stream",
     "text": [
      "\n",
      "===== Random Forest Results =====\n",
      "[[3286    0]\n",
      " [   0  393]]\n",
      "              precision    recall  f1-score   support\n",
      "\n",
      "           0       1.00      1.00      1.00      3286\n",
      "           1       1.00      1.00      1.00       393\n",
      "\n",
      "    accuracy                           1.00      3679\n",
      "   macro avg       1.00      1.00      1.00      3679\n",
      "weighted avg       1.00      1.00      1.00      3679\n",
      "\n"
     ]
    }
   ],
   "source": [
    "print(\"\\n===== Random Forest Results =====\")\n",
    "print(confusion_matrix(y_test, rf_preds))\n",
    "print(classification_report(y_test, rf_preds, zero_division=0))"
   ]
  },
  {
   "cell_type": "code",
   "execution_count": 31,
   "metadata": {},
   "outputs": [],
   "source": [
    "# Create output directory\n",
    "os.makedirs(\"plot\", exist_ok=True)"
   ]
  },
  {
   "cell_type": "code",
   "execution_count": 32,
   "metadata": {},
   "outputs": [],
   "source": [
    "def save_conf_matrix(y_true, y_pred, title, filename):\n",
    "    cm = confusion_matrix(y_true, y_pred)\n",
    "    disp = ConfusionMatrixDisplay(confusion_matrix=cm)\n",
    "    disp.plot(cmap=\"Blues\")\n",
    "    plt.title(title)\n",
    "    plt.savefig(f\"plots/{filename}\", bbox_inches='tight')\n",
    "    plt.close()\n"
   ]
  },
  {
   "cell_type": "code",
   "execution_count": 33,
   "metadata": {},
   "outputs": [],
   "source": [
    "save_conf_matrix(y_test, rf_preds, \"Random Forest Confusion Matrix\", \"rf_confusion_matrix.png\")\n"
   ]
  },
  {
   "cell_type": "code",
   "execution_count": 34,
   "metadata": {},
   "outputs": [],
   "source": [
    "\n",
    "\n",
    "# --- Save Feature Importance Plots ---\n",
    "\n",
    "def save_feature_importance(model, features, title, filename):\n",
    "    importances = model.feature_importances_\n",
    "    sorted_idx = np.argsort(importances)\n",
    "    plt.figure(figsize=(8, 5))\n",
    "    plt.barh(range(len(sorted_idx)), importances[sorted_idx], align='center')\n",
    "    plt.yticks(range(len(sorted_idx)), [features[i] for i in sorted_idx])\n",
    "    plt.title(title)\n",
    "    plt.xlabel(\"Importance Score\")\n",
    "    plt.tight_layout()\n",
    "    plt.savefig(f\"plots/{filename}\", bbox_inches='tight')\n",
    "    plt.close()\n",
    "\n"
   ]
  },
  {
   "cell_type": "code",
   "execution_count": 35,
   "metadata": {},
   "outputs": [],
   "source": [
    "# Convert X_test to DataFrame with proper column names\n",
    "X_test_df = pd.DataFrame(X_test, columns=features)\n"
   ]
  },
  {
   "cell_type": "code",
   "execution_count": 36,
   "metadata": {},
   "outputs": [
    {
     "name": "stderr",
     "output_type": "stream",
     "text": [
      " 99%|===================| 10978/11037 [00:13<00:00]        "
     ]
    }
   ],
   "source": [
    "# Create explainer and compute SHAP values\n",
    "explainer = shap.Explainer(rf, X_train)\n",
    "shap_values = explainer(X_test_df)\n"
   ]
  },
  {
   "cell_type": "code",
   "execution_count": 37,
   "metadata": {},
   "outputs": [],
   "source": [
    "# ✅ Use only the values for the first output class if it's multiclass or structured\n",
    "if isinstance(shap_values, list) or hasattr(shap_values, 'values'):\n",
    "    shap_vals = shap_values.values if hasattr(shap_values, 'values') else shap_values[0].values\n",
    "else:\n",
    "    shap_vals = shap_values"
   ]
  },
  {
   "cell_type": "code",
   "execution_count": 38,
   "metadata": {},
   "outputs": [],
   "source": [
    "# Now plot safely\n",
    "shap.summary_plot(shap_vals, X_test_df, show=False)\n",
    "plt.title(\"SHAP Summary Plot - Random Forest\")\n",
    "plt.savefig(\"plots/shap_summary_rf.png\", bbox_inches='tight')\n",
    "plt.close()"
   ]
  },
  {
   "cell_type": "code",
   "execution_count": 39,
   "metadata": {},
   "outputs": [],
   "source": [
    "\n",
    "# Use the same features and target as before\n",
    "features = ['mass_multiplier', 'radius_multiplier', 'orbital_radius', 'distance', 'eccentricity']\n",
    "X = df[features]\n",
    "y = df['habitability_cluster']"
   ]
  },
  {
   "cell_type": "code",
   "execution_count": 40,
   "metadata": {},
   "outputs": [],
   "source": [
    "# Standardize features\n",
    "scaler = StandardScaler()\n",
    "X_scaled = scaler.fit_transform(X)"
   ]
  },
  {
   "cell_type": "code",
   "execution_count": 41,
   "metadata": {},
   "outputs": [],
   "source": [
    "# Define scoring metrics\n",
    "scoring = {\n",
    "    'accuracy': make_scorer(accuracy_score),\n",
    "    'precision_macro': make_scorer(precision_score, average='macro', zero_division=0),\n",
    "    'recall_macro': make_scorer(recall_score, average='macro', zero_division=0),\n",
    "    'f1_macro': make_scorer(f1_score, average='macro', zero_division=0)\n",
    "}\n"
   ]
  },
  {
   "cell_type": "code",
   "execution_count": 42,
   "metadata": {},
   "outputs": [],
   "source": [
    "# 5-fold stratified cross-validation setup\n",
    "cv = StratifiedKFold(n_splits=5, shuffle=True, random_state=42)"
   ]
  },
  {
   "cell_type": "code",
   "execution_count": 43,
   "metadata": {},
   "outputs": [
    {
     "name": "stdout",
     "output_type": "stream",
     "text": [
      "\n",
      "===== Random Forest Cross-Validation =====\n",
      "test_accuracy: 0.9907\n",
      "test_precision_macro: 0.9939\n",
      "test_recall_macro: 0.9928\n",
      "test_f1_macro: 0.9933\n"
     ]
    }
   ],
   "source": [
    "# Random Forest cross-validation\n",
    "print(\"\\n===== Random Forest Cross-Validation =====\")\n",
    "rf_cv_scores = cross_validate(RandomForestClassifier(random_state=42), X_scaled, y, cv=cv, scoring=scoring)\n",
    "for metric, scores in rf_cv_scores.items():\n",
    "    if 'test' in metric:\n",
    "        print(f\"{metric}: {np.mean(scores):.4f}\")"
   ]
  },
  {
   "cell_type": "code",
   "execution_count": 91,
   "metadata": {},
   "outputs": [],
   "source": [
    "Import required libraries\n",
    "from sklearn.ensemble import RandomForestClassifier\n",
    "from sklearn.model_selection import train_test_split\n",
    "import pandas as pd\n"
   ]
  },
  {
   "cell_type": "code",
   "execution_count": 92,
   "metadata": {},
   "outputs": [],
   "source": [
    "# Define features and target\n",
    "features = ['mass_multiplier', 'radius_multiplier', 'orbital_radius', 'eccentricity', 'distance']\n",
    "X = df[features]\n",
    "y = df['habitability_cluster']"
   ]
  },
  {
   "cell_type": "code",
   "execution_count": 93,
   "metadata": {},
   "outputs": [
    {
     "data": {
      "text/html": [
       "<style>#sk-container-id-2 {color: black;}#sk-container-id-2 pre{padding: 0;}#sk-container-id-2 div.sk-toggleable {background-color: white;}#sk-container-id-2 label.sk-toggleable__label {cursor: pointer;display: block;width: 100%;margin-bottom: 0;padding: 0.3em;box-sizing: border-box;text-align: center;}#sk-container-id-2 label.sk-toggleable__label-arrow:before {content: \"▸\";float: left;margin-right: 0.25em;color: #696969;}#sk-container-id-2 label.sk-toggleable__label-arrow:hover:before {color: black;}#sk-container-id-2 div.sk-estimator:hover label.sk-toggleable__label-arrow:before {color: black;}#sk-container-id-2 div.sk-toggleable__content {max-height: 0;max-width: 0;overflow: hidden;text-align: left;background-color: #f0f8ff;}#sk-container-id-2 div.sk-toggleable__content pre {margin: 0.2em;color: black;border-radius: 0.25em;background-color: #f0f8ff;}#sk-container-id-2 input.sk-toggleable__control:checked~div.sk-toggleable__content {max-height: 200px;max-width: 100%;overflow: auto;}#sk-container-id-2 input.sk-toggleable__control:checked~label.sk-toggleable__label-arrow:before {content: \"▾\";}#sk-container-id-2 div.sk-estimator input.sk-toggleable__control:checked~label.sk-toggleable__label {background-color: #d4ebff;}#sk-container-id-2 div.sk-label input.sk-toggleable__control:checked~label.sk-toggleable__label {background-color: #d4ebff;}#sk-container-id-2 input.sk-hidden--visually {border: 0;clip: rect(1px 1px 1px 1px);clip: rect(1px, 1px, 1px, 1px);height: 1px;margin: -1px;overflow: hidden;padding: 0;position: absolute;width: 1px;}#sk-container-id-2 div.sk-estimator {font-family: monospace;background-color: #f0f8ff;border: 1px dotted black;border-radius: 0.25em;box-sizing: border-box;margin-bottom: 0.5em;}#sk-container-id-2 div.sk-estimator:hover {background-color: #d4ebff;}#sk-container-id-2 div.sk-parallel-item::after {content: \"\";width: 100%;border-bottom: 1px solid gray;flex-grow: 1;}#sk-container-id-2 div.sk-label:hover label.sk-toggleable__label {background-color: #d4ebff;}#sk-container-id-2 div.sk-serial::before {content: \"\";position: absolute;border-left: 1px solid gray;box-sizing: border-box;top: 0;bottom: 0;left: 50%;z-index: 0;}#sk-container-id-2 div.sk-serial {display: flex;flex-direction: column;align-items: center;background-color: white;padding-right: 0.2em;padding-left: 0.2em;position: relative;}#sk-container-id-2 div.sk-item {position: relative;z-index: 1;}#sk-container-id-2 div.sk-parallel {display: flex;align-items: stretch;justify-content: center;background-color: white;position: relative;}#sk-container-id-2 div.sk-item::before, #sk-container-id-2 div.sk-parallel-item::before {content: \"\";position: absolute;border-left: 1px solid gray;box-sizing: border-box;top: 0;bottom: 0;left: 50%;z-index: -1;}#sk-container-id-2 div.sk-parallel-item {display: flex;flex-direction: column;z-index: 1;position: relative;background-color: white;}#sk-container-id-2 div.sk-parallel-item:first-child::after {align-self: flex-end;width: 50%;}#sk-container-id-2 div.sk-parallel-item:last-child::after {align-self: flex-start;width: 50%;}#sk-container-id-2 div.sk-parallel-item:only-child::after {width: 0;}#sk-container-id-2 div.sk-dashed-wrapped {border: 1px dashed gray;margin: 0 0.4em 0.5em 0.4em;box-sizing: border-box;padding-bottom: 0.4em;background-color: white;}#sk-container-id-2 div.sk-label label {font-family: monospace;font-weight: bold;display: inline-block;line-height: 1.2em;}#sk-container-id-2 div.sk-label-container {text-align: center;}#sk-container-id-2 div.sk-container {/* jupyter's `normalize.less` sets `[hidden] { display: none; }` but bootstrap.min.css set `[hidden] { display: none !important; }` so we also need the `!important` here to be able to override the default hidden behavior on the sphinx rendered scikit-learn.org. See: https://github.com/scikit-learn/scikit-learn/issues/21755 */display: inline-block !important;position: relative;}#sk-container-id-2 div.sk-text-repr-fallback {display: none;}</style><div id=\"sk-container-id-2\" class=\"sk-top-container\"><div class=\"sk-text-repr-fallback\"><pre>RandomForestClassifier()</pre><b>In a Jupyter environment, please rerun this cell to show the HTML representation or trust the notebook. <br />On GitHub, the HTML representation is unable to render, please try loading this page with nbviewer.org.</b></div><div class=\"sk-container\" hidden><div class=\"sk-item\"><div class=\"sk-estimator sk-toggleable\"><input class=\"sk-toggleable__control sk-hidden--visually\" id=\"sk-estimator-id-2\" type=\"checkbox\" checked><label for=\"sk-estimator-id-2\" class=\"sk-toggleable__label sk-toggleable__label-arrow\">RandomForestClassifier</label><div class=\"sk-toggleable__content\"><pre>RandomForestClassifier()</pre></div></div></div></div></div>"
      ],
      "text/plain": [
       "RandomForestClassifier()"
      ]
     },
     "execution_count": 93,
     "metadata": {},
     "output_type": "execute_result"
    }
   ],
   "source": [
    "# Train the model\n",
    "model = RandomForestClassifier()\n",
    "model.fit(X, y)\n"
   ]
  },
  {
   "cell_type": "code",
   "execution_count": 94,
   "metadata": {},
   "outputs": [],
   "source": [
    "# --- Predict on a fixed input (optional) ---\n",
    "mass = 0.5\n",
    "radius = 0.3\n",
    "orbital_radius = 0.2\n",
    "ecc = 0.05\n",
    "distance = 32"
   ]
  },
  {
   "cell_type": "code",
   "execution_count": 95,
   "metadata": {},
   "outputs": [],
   "source": [
    "# Create DataFrame for input\n",
    "input_data = pd.DataFrame([{\n",
    "    'mass_multiplier': mass,\n",
    "    'radius_multiplier': radius,\n",
    "    'orbital_radius': orbital_radius,\n",
    "    'eccentricity': ecc,\n",
    "    'distance': distance\n",
    "}])"
   ]
  },
  {
   "cell_type": "code",
   "execution_count": 96,
   "metadata": {},
   "outputs": [],
   "source": [
    "# Create input DataFrame\n",
    "input_data = pd.DataFrame([{\n",
    "    'mass_multiplier': mass,\n",
    "    'radius_multiplier': radius,\n",
    "    'orbital_radius': orbital_radius,\n",
    "    'eccentricity': ecc,\n",
    "    'distance': distance\n",
    "}])"
   ]
  },
  {
   "cell_type": "code",
   "execution_count": 97,
   "metadata": {},
   "outputs": [],
   "source": [
    "# Predict\n",
    "prediction = model.predict(input_data)[0]"
   ]
  },
  {
   "cell_type": "code",
   "execution_count": 98,
   "metadata": {},
   "outputs": [],
   "source": [
    "# Map predicted class\n",
    "habitability_mapping = {\n",
    "    0: \"Not Habitable\",\n",
    "    1: \"Possibly Habitable\",\n",
    "    2: \"Habitable\"\n",
    "}"
   ]
  },
  {
   "cell_type": "code",
   "execution_count": 99,
   "metadata": {},
   "outputs": [
    {
     "name": "stdout",
     "output_type": "stream",
     "text": [
      "\n",
      "🌍 Predicted Habitability: Possibly Habitable\n"
     ]
    }
   ],
   "source": [
    "print(\"\\n🌍 Predicted Habitability:\", habitability_mapping[prediction])\n"
   ]
  },
  {
   "cell_type": "code",
   "execution_count": 101,
   "metadata": {
    "scrolled": true
   },
   "outputs": [
    {
     "name": "stdout",
     "output_type": "stream",
     "text": [
      "\n",
      "🌍 Enter exoplanet parameters (with suggested units and ranges):\n",
      " - mass_multiplier (relative to Earth's mass, M⊕) [Range: 0.1 – 10.0, Earth = 1.0]\n",
      " - radius_multiplier (relative to Earth's radius, R⊕) [Range: 0.1 – 2.5, Earth = 1.0]\n",
      " - orbital_radius (in Astronomical Units, AU) [Range: 0.1 – 5.0, Earth = 1.0]\n",
      " - eccentricity (dimensionless) [Range: 0.0 – 1.0, circular = 0.02]\n",
      " - distance (in light-years, ly) [Range: 1 – 5000]\n",
      "Enter mass_multiplier: 0.2\n",
      "Enter radius_multiplier: 0.8\n",
      "Enter orbital_radius: 0.55\n",
      "Enter eccentricity: 0.02\n",
      "Enter distance: 500\n"
     ]
    }
   ],
   "source": [
    "# --- User Input Section ---\n",
    "print(\"\\n🌍 Enter exoplanet parameters (with suggested units and ranges):\")\n",
    "print(\" - mass_multiplier (relative to Earth's mass, M⊕) [Range: 0.1 – 10.0, Earth = 1.0]\")\n",
    "print(\" - radius_multiplier (relative to Earth's radius, R⊕) [Range: 0.1 – 2.5, Earth = 1.0]\")\n",
    "print(\" - orbital_radius (in Astronomical Units, AU) [Range: 0.1 – 5.0, Earth = 1.0]\")\n",
    "print(\" - eccentricity (dimensionless) [Range: 0.0 – 1.0, circular = 0.02]\")\n",
    "print(\" - distance (in light-years, ly) [Range: 1 – 5000]\")\n",
    "\n",
    "user_input = [float(input(f\"Enter {feat}: \")) for feat in features]\n",
    "\n"
   ]
  },
  {
   "cell_type": "code",
   "execution_count": 102,
   "metadata": {},
   "outputs": [],
   "source": [
    "# Convert to DataFrame\n",
    "user_df = pd.DataFrame([user_input], columns=features)"
   ]
  },
  {
   "cell_type": "code",
   "execution_count": 103,
   "metadata": {},
   "outputs": [],
   "source": [
    "# --- Predict label and probabilities (no scaler needed) ---\n",
    "predicted_label = model.predict(user_df)[0]\n",
    "predicted_probs = model.predict_proba(user_df)[0] * 100  # Convert to percentage"
   ]
  },
  {
   "cell_type": "code",
   "execution_count": 104,
   "metadata": {},
   "outputs": [],
   "source": [
    "# Map label\n",
    "label_map = {\n",
    "    0: \"Non-Habitable\",\n",
    "    1: \"Possibly Habitable\",\n",
    "    2: \"Habitable\"\n",
    "}\n",
    "label_name = label_map[predicted_label]\n",
    "confidence = predicted_probs[predicted_label]"
   ]
  },
  {
   "cell_type": "code",
   "execution_count": 105,
   "metadata": {},
   "outputs": [
    {
     "name": "stdout",
     "output_type": "stream",
     "text": [
      "\n",
      "🌍 Prediction: Non-Habitable\n",
      "📊 Probability prediction: 97.00%\n"
     ]
    }
   ],
   "source": [
    "# --- Final Output ---\n",
    "print(f\"\\n🌍 Prediction: {label_name}\")\n",
    "print(f\"📊 Probability prediction: {confidence:.2f}%\")\"\"\"\""
   ]
  },
  {
   "cell_type": "code",
   "execution_count": 106,
   "metadata": {},
   "outputs": [],
   "source": [
    "# Import required libraries\n",
    "import pandas as pd\n",
    "from sklearn.ensemble import RandomForestClassifier\n",
    "from sklearn.model_selection import train_test_split"
   ]
  },
  {
   "cell_type": "code",
   "execution_count": 107,
   "metadata": {},
   "outputs": [],
   "source": [
    "# Assume your DataFrame 'df' is already loaded with data\n",
    "# Define features and target\n",
    "features = ['mass_multiplier', 'radius_multiplier', 'orbital_radius', 'eccentricity', 'distance']\n",
    "X = df[features]\n",
    "y = df['habitability_cluster']"
   ]
  },
  {
   "cell_type": "code",
   "execution_count": 108,
   "metadata": {},
   "outputs": [
    {
     "data": {
      "text/html": [
       "<style>#sk-container-id-3 {color: black;}#sk-container-id-3 pre{padding: 0;}#sk-container-id-3 div.sk-toggleable {background-color: white;}#sk-container-id-3 label.sk-toggleable__label {cursor: pointer;display: block;width: 100%;margin-bottom: 0;padding: 0.3em;box-sizing: border-box;text-align: center;}#sk-container-id-3 label.sk-toggleable__label-arrow:before {content: \"▸\";float: left;margin-right: 0.25em;color: #696969;}#sk-container-id-3 label.sk-toggleable__label-arrow:hover:before {color: black;}#sk-container-id-3 div.sk-estimator:hover label.sk-toggleable__label-arrow:before {color: black;}#sk-container-id-3 div.sk-toggleable__content {max-height: 0;max-width: 0;overflow: hidden;text-align: left;background-color: #f0f8ff;}#sk-container-id-3 div.sk-toggleable__content pre {margin: 0.2em;color: black;border-radius: 0.25em;background-color: #f0f8ff;}#sk-container-id-3 input.sk-toggleable__control:checked~div.sk-toggleable__content {max-height: 200px;max-width: 100%;overflow: auto;}#sk-container-id-3 input.sk-toggleable__control:checked~label.sk-toggleable__label-arrow:before {content: \"▾\";}#sk-container-id-3 div.sk-estimator input.sk-toggleable__control:checked~label.sk-toggleable__label {background-color: #d4ebff;}#sk-container-id-3 div.sk-label input.sk-toggleable__control:checked~label.sk-toggleable__label {background-color: #d4ebff;}#sk-container-id-3 input.sk-hidden--visually {border: 0;clip: rect(1px 1px 1px 1px);clip: rect(1px, 1px, 1px, 1px);height: 1px;margin: -1px;overflow: hidden;padding: 0;position: absolute;width: 1px;}#sk-container-id-3 div.sk-estimator {font-family: monospace;background-color: #f0f8ff;border: 1px dotted black;border-radius: 0.25em;box-sizing: border-box;margin-bottom: 0.5em;}#sk-container-id-3 div.sk-estimator:hover {background-color: #d4ebff;}#sk-container-id-3 div.sk-parallel-item::after {content: \"\";width: 100%;border-bottom: 1px solid gray;flex-grow: 1;}#sk-container-id-3 div.sk-label:hover label.sk-toggleable__label {background-color: #d4ebff;}#sk-container-id-3 div.sk-serial::before {content: \"\";position: absolute;border-left: 1px solid gray;box-sizing: border-box;top: 0;bottom: 0;left: 50%;z-index: 0;}#sk-container-id-3 div.sk-serial {display: flex;flex-direction: column;align-items: center;background-color: white;padding-right: 0.2em;padding-left: 0.2em;position: relative;}#sk-container-id-3 div.sk-item {position: relative;z-index: 1;}#sk-container-id-3 div.sk-parallel {display: flex;align-items: stretch;justify-content: center;background-color: white;position: relative;}#sk-container-id-3 div.sk-item::before, #sk-container-id-3 div.sk-parallel-item::before {content: \"\";position: absolute;border-left: 1px solid gray;box-sizing: border-box;top: 0;bottom: 0;left: 50%;z-index: -1;}#sk-container-id-3 div.sk-parallel-item {display: flex;flex-direction: column;z-index: 1;position: relative;background-color: white;}#sk-container-id-3 div.sk-parallel-item:first-child::after {align-self: flex-end;width: 50%;}#sk-container-id-3 div.sk-parallel-item:last-child::after {align-self: flex-start;width: 50%;}#sk-container-id-3 div.sk-parallel-item:only-child::after {width: 0;}#sk-container-id-3 div.sk-dashed-wrapped {border: 1px dashed gray;margin: 0 0.4em 0.5em 0.4em;box-sizing: border-box;padding-bottom: 0.4em;background-color: white;}#sk-container-id-3 div.sk-label label {font-family: monospace;font-weight: bold;display: inline-block;line-height: 1.2em;}#sk-container-id-3 div.sk-label-container {text-align: center;}#sk-container-id-3 div.sk-container {/* jupyter's `normalize.less` sets `[hidden] { display: none; }` but bootstrap.min.css set `[hidden] { display: none !important; }` so we also need the `!important` here to be able to override the default hidden behavior on the sphinx rendered scikit-learn.org. See: https://github.com/scikit-learn/scikit-learn/issues/21755 */display: inline-block !important;position: relative;}#sk-container-id-3 div.sk-text-repr-fallback {display: none;}</style><div id=\"sk-container-id-3\" class=\"sk-top-container\"><div class=\"sk-text-repr-fallback\"><pre>RandomForestClassifier()</pre><b>In a Jupyter environment, please rerun this cell to show the HTML representation or trust the notebook. <br />On GitHub, the HTML representation is unable to render, please try loading this page with nbviewer.org.</b></div><div class=\"sk-container\" hidden><div class=\"sk-item\"><div class=\"sk-estimator sk-toggleable\"><input class=\"sk-toggleable__control sk-hidden--visually\" id=\"sk-estimator-id-3\" type=\"checkbox\" checked><label for=\"sk-estimator-id-3\" class=\"sk-toggleable__label sk-toggleable__label-arrow\">RandomForestClassifier</label><div class=\"sk-toggleable__content\"><pre>RandomForestClassifier()</pre></div></div></div></div></div>"
      ],
      "text/plain": [
       "RandomForestClassifier()"
      ]
     },
     "execution_count": 108,
     "metadata": {},
     "output_type": "execute_result"
    }
   ],
   "source": [
    "# Train the model\n",
    "model = RandomForestClassifier()\n",
    "model.fit(X, y)"
   ]
  },
  {
   "cell_type": "code",
   "execution_count": 109,
   "metadata": {},
   "outputs": [],
   "source": [
    "# Define label map\n",
    "label_map = {0: \"Non-Habitable\", 1: \"Possibly Habitable\", 2: \"Habitable\"}"
   ]
  },
  {
   "cell_type": "code",
   "execution_count": 111,
   "metadata": {},
   "outputs": [
    {
     "name": "stdout",
     "output_type": "stream",
     "text": [
      "🌍 Please enter values for 9 exoplanets:\n",
      "Units & Ranges:\n",
      " - mass_multiplier (0.1–10.0)\n",
      " - radius_multiplier (0.1–2.5)\n",
      " - orbital_radius (AU, 0.1–5.0)\n",
      " - eccentricity (0.0–1.0)\n",
      " - distance (light-years, 1–5000)\n",
      "\n",
      "🔢 Enter data for Exoplanet #1:\n",
      "Enter mass_multiplier: 19.4\n",
      "Enter radius_multiplier: 1.08\n",
      "Enter orbital_radius: 1.29\n",
      "Enter eccentricity: 0.23\n",
      "Enter distance: 304\n",
      "\n",
      "🔢 Enter data for Exoplanet #2:\n",
      "Enter mass_multiplier: 14.74\n",
      "Enter radius_multiplier: 1.09\n",
      "Enter orbital_radius: 1.53\n",
      "Enter eccentricity: 0.08\n",
      "Enter distance: 409\n",
      "\n",
      "🔢 Enter data for Exoplanet #3:\n",
      "Enter mass_multiplier: 4.8\n",
      "Enter radius_multiplier: 1.15\n",
      "Enter orbital_radius: 0.83\n",
      "Enter eccentricity: 0\n",
      "Enter distance: 246\n",
      "\n",
      "🔢 Enter data for Exoplanet #4:\n",
      "Enter mass_multiplier: 8.13881\n",
      "Enter radius_multiplier: 1.12\n",
      "Enter orbital_radius: 2.773069\n",
      "Enter eccentricity: 0.37\n",
      "Enter distance: 58\n",
      "\n",
      "🔢 Enter data for Exoplanet #5:\n",
      "Enter mass_multiplier: 6.3\n",
      "Enter radius_multiplier: 1.11\n",
      "Enter orbital_radius: 7506\n",
      "Enter eccentricity: 0\n",
      "Enter distance: 36\n",
      "\n",
      "🔢 Enter data for Exoplanet #6:\n",
      "Enter mass_multiplier: 8.4\n",
      "Enter radius_multiplier: 0.253\n",
      "Enter orbital_radius: 0.046\n",
      "Enter eccentricity: 0\n",
      "Enter distance: 522\n",
      "\n",
      "🔢 Enter data for Exoplanet #7:\n",
      "Enter mass_multiplier: 17.142\n",
      "Enter radius_multiplier: 0.384\n",
      "Enter orbital_radius: 0.1028\n",
      "Enter eccentricity: 0\n",
      "Enter distance: 522\n",
      "\n",
      "🔢 Enter data for Exoplanet #8:\n",
      "Enter mass_multiplier: 11.3\n",
      "Enter radius_multiplier: 1.265\n",
      "Enter orbital_radius: 2000\n",
      "Enter eccentricity: 0\n",
      "Enter distance: 155\n",
      "\n",
      "🔢 Enter data for Exoplanet #9:\n",
      "Enter mass_multiplier: 24.5\n",
      "Enter radius_multiplier: 1\n",
      "Enter orbital_radius: 52\n",
      "Enter eccentricity: 0\n",
      "Enter distance: 110\n"
     ]
    }
   ],
   "source": [
    "# Ask user to enter 9 exoplanet records\n",
    "print(\"🌍 Please enter values for 9 exoplanets:\")\n",
    "print(\"Units & Ranges:\")\n",
    "print(\" - mass_multiplier (0.1–10.0)\")\n",
    "print(\" - radius_multiplier (0.1–2.5)\")\n",
    "print(\" - orbital_radius (AU, 0.1–5.0)\")\n",
    "print(\" - eccentricity (0.0–1.0)\")\n",
    "print(\" - distance (light-years, 1–5000)\")\n",
    "\n",
    "results = []\n",
    "\n",
    "for i in range(1, 10):  # 1 to 9\n",
    "    print(f\"\\n🔢 Enter data for Exoplanet #{i}:\")\n",
    "    user_input = []\n",
    "    for feat in features:\n",
    "        value = float(input(f\"Enter {feat}: \"))\n",
    "        user_input.append(value)\n",
    "\n",
    "    input_df = pd.DataFrame([user_input], columns=features)\n",
    "    label = model.predict(input_df)[0]\n",
    "    probs = model.predict_proba(input_df)[0] * 100\n",
    "\n",
    "    result = {\n",
    "        \"mass_multiplier\": user_input[0],\n",
    "        \"radius_multiplier\": user_input[1],\n",
    "        \"orbital_radius\": user_input[2],\n",
    "        \"eccentricity\": user_input[3],\n",
    "        \"distance\": user_input[4],\n",
    "        \"Predicted_Label\": label_map[label],\n",
    "        \"Probability (%)\": round(probs[label], 2)\n",
    "    }\n",
    "    results.append(result)\n"
   ]
  },
  {
   "cell_type": "code",
   "execution_count": 112,
   "metadata": {},
   "outputs": [
    {
     "name": "stdout",
     "output_type": "stream",
     "text": [
      "\n",
      "✅ All predictions saved to 'user_habitability_predictions.csv'\n"
     ]
    }
   ],
   "source": [
    "# Convert to DataFrame and save to CSV\n",
    "results_df = pd.DataFrame(results)\n",
    "results_df.to_csv(\"user_habitability_predictions.csv\", index=False)\n",
    "\n",
    "print(\"\\n✅ All predictions saved to 'user_habitability_predictions.csv'\")"
   ]
  },
  {
   "cell_type": "code",
   "execution_count": null,
   "metadata": {},
   "outputs": [],
   "source": []
  }
 ],
 "metadata": {
  "kernelspec": {
   "display_name": "Python 3",
   "language": "python",
   "name": "python3"
  },
  "language_info": {
   "codemirror_mode": {
    "name": "ipython",
    "version": 3
   },
   "file_extension": ".py",
   "mimetype": "text/x-python",
   "name": "python",
   "nbconvert_exporter": "python",
   "pygments_lexer": "ipython3",
   "version": "3.8.5"
  }
 },
 "nbformat": 4,
 "nbformat_minor": 4
}
